{
  "nbformat": 4,
  "nbformat_minor": 0,
  "metadata": {
    "colab": {
      "name": "Copy of Spotify Suggestion Model V1.ipynb",
      "provenance": [],
      "collapsed_sections": [],
      "include_colab_link": true
    },
    "kernelspec": {
      "name": "python3",
      "display_name": "Python 3"
    },
    "language_info": {
      "name": "python"
    }
  },
  "cells": [
    {
      "cell_type": "markdown",
      "metadata": {
        "id": "view-in-github",
        "colab_type": "text"
      },
      "source": [
        "<a href=\"https://colab.research.google.com/github/RamezHatab/Spotify-Suggestion-Model/blob/main/Copy_of_Spotify_Suggestion_Model_V1.ipynb\" target=\"_parent\"><img src=\"https://colab.research.google.com/assets/colab-badge.svg\" alt=\"Open In Colab\"/></a>"
      ]
    },
    {
      "cell_type": "markdown",
      "metadata": {
        "id": "n7CFK0vovSNF"
      },
      "source": [
        "# Spotify Suggestion Model V1"
      ]
    },
    {
      "cell_type": "markdown",
      "metadata": {
        "id": "QK7_salHtjAo"
      },
      "source": [
        "## Infrastructure"
      ]
    },
    {
      "cell_type": "code",
      "metadata": {
        "id": "0qdIGCbJiiqQ"
      },
      "source": [
        "import sys\n",
        "!{sys.executable} -m pip install spotipy"
      ],
      "execution_count": null,
      "outputs": []
    },
    {
      "cell_type": "code",
      "metadata": {
        "id": "66Ln0z2NilEK"
      },
      "source": [
        "username = \"agwx2\"\n",
        "cid = \"17c11cf9271f4980a85e6aab83cba6bb\" \n",
        "secret = \"015c9abf126340a7981e7ba64dbe7828\"\n",
        "good_playlist_id = \"61BmnG6d7ifmj8Dr5tuCBK\"\n",
        "bad_playlist_id = \"53FPslFSIAGvVyERcNG4J3\"\n",
        "source_playlist_id = \"5ghFHvZmV4FDK5YLeZQRu9\""
      ],
      "execution_count": null,
      "outputs": []
    },
    {
      "cell_type": "code",
      "metadata": {
        "id": "Zv-9hy3IimF4"
      },
      "source": [
        "import spotipy\n",
        "import spotipy.util as util\n",
        "from spotipy.oauth2 import SpotifyClientCredentials\n",
        "\n",
        "import pandas as pd\n",
        "from statistics import mean, stdev\n",
        "from sklearn.model_selection import StratifiedKFold\n",
        "from sklearn.model_selection import train_test_split\n",
        "from sklearn.model_selection import cross_val_score\n",
        "from sklearn.metrics import accuracy_score, mean_squared_error, r2_score\n",
        "\n",
        "from sklearn.neighbors import KNeighborsClassifier\n",
        "from sklearn.tree import DecisionTreeClassifier\n",
        "from sklearn.ensemble import RandomForestClassifier\n",
        "from sklearn.ensemble import AdaBoostClassifier\n",
        "from sklearn.ensemble import GradientBoostingClassifier\n",
        "from sklearn.linear_model import LinearRegression"
      ],
      "execution_count": null,
      "outputs": []
    },
    {
      "cell_type": "markdown",
      "metadata": {
        "id": "DzcmdM3xtoWp"
      },
      "source": [
        "## Data Collection"
      ]
    },
    {
      "cell_type": "code",
      "metadata": {
        "id": "4yjbU7XGis6h"
      },
      "source": [
        "sp_cred = SpotifyClientCredentials(\n",
        "    client_id=cid,\n",
        "    client_secret=secret\n",
        ")\n",
        "sp = spotipy.Spotify(client_credentials_manager=sp_cred)"
      ],
      "execution_count": null,
      "outputs": []
    },
    {
      "cell_type": "code",
      "metadata": {
        "id": "MlI1GrsRi3l3"
      },
      "source": [
        "good_playlist = sp.user_playlist(username, good_playlist_id)\n",
        "good_tracks = good_playlist[\"tracks\"]\n",
        "good_songs = good_tracks[\"items\"]\n",
        "\n",
        "while good_tracks['next']:\n",
        "    good_tracks = sp.next(good_tracks)\n",
        "    for item in good_tracks[\"items\"]:\n",
        "        good_songs.append(item)\n",
        "\n",
        "good_ids = []\n",
        "for i in range(len(good_songs)):\n",
        "    good_ids.append(good_songs[i]['track']['id'])\n",
        "# print(len(good_ids))\n",
        "# print(good_ids)\n",
        "print(good_songs)"
      ],
      "execution_count": null,
      "outputs": []
    },
    {
      "cell_type": "code",
      "metadata": {
        "id": "tmxlK5lqjXu5"
      },
      "source": [
        "bad_playlist = sp.user_playlist(username, bad_playlist_id)\n",
        "bad_tracks = bad_playlist[\"tracks\"]\n",
        "bad_songs = bad_tracks[\"items\"]\n",
        "\n",
        "while bad_tracks['next']:\n",
        "    bad_tracks = sp.next(bad_tracks)\n",
        "    for item in bad_tracks[\"items\"]:\n",
        "        bad_songs.append(item)\n",
        "\n",
        "bad_ids = []\n",
        "for i in range(len(bad_songs)):\n",
        "    bad_ids.append(bad_songs[i]['track']['id'])\n",
        "print(len(bad_ids))\n",
        "print(bad_ids)"
      ],
      "execution_count": null,
      "outputs": []
    },
    {
      "cell_type": "code",
      "metadata": {
        "id": "22yVFnRptZTM"
      },
      "source": [
        "source_playlist = sp.user_playlist(username, source_playlist_id)\n",
        "source_tracks = source_playlist[\"tracks\"]\n",
        "source_songs = source_tracks[\"items\"]\n",
        "\n",
        "while source_tracks['next']:\n",
        "    source_tracks = sp.next(source_tracks)\n",
        "    for item in source_tracks[\"items\"]:\n",
        "        source_songs.append(item)\n",
        "\n",
        "source_ids = []\n",
        "for i in range(len(source_songs)):\n",
        "    if source_songs[i]['track'] != None:\n",
        "      source_ids.append(source_songs[i]['track']['id'])\n",
        "print(len(source_ids))\n",
        "print(source_ids)"
      ],
      "execution_count": null,
      "outputs": []
    },
    {
      "cell_type": "code",
      "metadata": {
        "id": "N7VQZzZ8jJ9D"
      },
      "source": [
        "training_features = []\n",
        "\n",
        "for i in range(0, len(good_ids), 50):\n",
        "    audio_features = sp.audio_features(good_ids[i : i + 50])\n",
        "    for track in audio_features:\n",
        "        training_features.append(track)\n",
        "        training_features[-1]['target'] = 1\n",
        "\n",
        "for i in range(0, len(bad_ids), 50):\n",
        "    audio_features = sp.audio_features(bad_ids[i : i + 50])\n",
        "    for track in audio_features:\n",
        "        training_features.append(track)\n",
        "        training_features[-1]['target'] = 0\n",
        "\n",
        "print(len(training_features))\n",
        "print(training_features)"
      ],
      "execution_count": null,
      "outputs": []
    },
    {
      "cell_type": "code",
      "metadata": {
        "id": "Qfv8qNtJt1bR"
      },
      "source": [
        "source_features = []\n",
        "for i in range(0, len(source_ids), 50):\n",
        "    audio_features = sp.audio_features(source_ids[i : i + 50])\n",
        "    for track in audio_features:\n",
        "        source_features.append(track)\n",
        "        source_features[-1]['target'] = 0  # arbitrary\n",
        "\n",
        "print(len(source_features))\n",
        "print(source_features)"
      ],
      "execution_count": null,
      "outputs": []
    },
    {
      "cell_type": "markdown",
      "metadata": {
        "id": "0dLN8eo3uiQV"
      },
      "source": [
        "## Data Preparation"
      ]
    },
    {
      "cell_type": "code",
      "metadata": {
        "id": "mXJC5u2EkvBx"
      },
      "source": [
        "trainingData = pd.DataFrame(training_features)"
      ],
      "execution_count": null,
      "outputs": []
    },
    {
      "cell_type": "code",
      "metadata": {
        "id": "Y5mJO335pN6t"
      },
      "source": [
        "trainingData"
      ],
      "execution_count": null,
      "outputs": []
    },
    {
      "cell_type": "code",
      "metadata": {
        "id": "tnmUDrrhkzSv"
      },
      "source": [
        "train, test = train_test_split(trainingData, test_size = 0.15)"
      ],
      "execution_count": null,
      "outputs": []
    },
    {
      "cell_type": "code",
      "metadata": {
        "id": "tzjJXNrwk2b4"
      },
      "source": [
        "target_features = [\"danceability\", \"loudness\", \"valence\", \"energy\", \"instrumentalness\", \"acousticness\", \"key\", \"speechiness\", \"duration_ms\"]\n",
        "\n",
        "x_train = train[target_features]\n",
        "y_train = train[\"target\"]\n",
        "x_test = test[target_features]\n",
        "y_test = test[\"target\"]"
      ],
      "execution_count": null,
      "outputs": []
    },
    {
      "cell_type": "code",
      "metadata": {
        "id": "CIc_1Sb_pPOf"
      },
      "source": [
        "x_train"
      ],
      "execution_count": null,
      "outputs": []
    },
    {
      "cell_type": "code",
      "metadata": {
        "id": "jBIgqGofpS9m"
      },
      "source": [
        "y_train"
      ],
      "execution_count": null,
      "outputs": []
    },
    {
      "cell_type": "code",
      "metadata": {
        "id": "UTJHfAmopUvQ"
      },
      "source": [
        "x_test"
      ],
      "execution_count": null,
      "outputs": []
    },
    {
      "cell_type": "code",
      "metadata": {
        "id": "xb5berAfpZp9"
      },
      "source": [
        "y_test"
      ],
      "execution_count": null,
      "outputs": []
    },
    {
      "cell_type": "markdown",
      "metadata": {
        "id": "312pbWMAumua"
      },
      "source": [
        "## Model Evaluation"
      ]
    },
    {
      "cell_type": "code",
      "metadata": {
        "id": "JsxXC3SflL22"
      },
      "source": [
        "# linear regression is a good start, but does not work well for classification problems\n",
        "linreg = LinearRegression()\n",
        "linreg.fit(x_train, y_train)\n",
        "linreg_pred = linreg.predict(x_test)\n",
        "\n",
        "print('Mean squared error: %.2f' % mean_squared_error(y_test, linreg_pred))\n",
        "linreg_pred"
      ],
      "execution_count": null,
      "outputs": []
    },
    {
      "cell_type": "code",
      "metadata": {
        "id": "qTbTf3rfkMPd"
      },
      "source": [
        "# k-neighbors algorithm is popular but not so applicable in this case, no local structure to data\n",
        "knn = KNeighborsClassifier(3)\n",
        "knn.fit(x_train, y_train)\n",
        "knn_pred = knn.predict(x_test)\n",
        "\n",
        "score = accuracy_score(y_test, knn_pred) * 100\n",
        "print(\"Accuracy using Knn Tree: \", round(score, 2), \"%\")\n",
        "print('Mean squared error: %.2f' % mean_squared_error(y_test, knn_pred))"
      ],
      "execution_count": null,
      "outputs": []
    },
    {
      "cell_type": "code",
      "metadata": {
        "id": "0Pdd6mChlGv0"
      },
      "source": [
        "# decision tree is a common element in machine learning, useful in classification\n",
        "dtc = DecisionTreeClassifier(min_samples_split=100)\n",
        "dtc.fit(x_train, y_train)\n",
        "dtc_pred = dtc.predict(x_test)\n",
        "\n",
        "score = accuracy_score(y_test, dtc_pred) * 100\n",
        "print(\"Accuracy using Decision Tree: \", round(score, 2), \"%\")\n",
        "print('Mean squared error: %.2f' % mean_squared_error(y_test, dtc_pred))"
      ],
      "execution_count": null,
      "outputs": []
    },
    {
      "cell_type": "code",
      "metadata": {
        "id": "IHRTAVzSpd9T"
      },
      "source": [
        "# random forest combines multiple decision trees and uses bagging\n",
        "# (training multiple trees on different sections of training data, averaging the result)\n",
        "rfc = RandomForestClassifier(n_jobs=1, random_state=1)\n",
        "rfc.fit(x_train, y_train)\n",
        "rfc_pred = rfc.predict(x_test)\n",
        "\n",
        "score = accuracy_score(y_test, rfc_pred) * 100\n",
        "print(\"Accuracy using Random Forest: \", round(score, 2), \"%\")\n",
        "print('Mean squared error: %.2f' % mean_squared_error(y_test, rfc_pred))"
      ],
      "execution_count": null,
      "outputs": []
    },
    {
      "cell_type": "code",
      "metadata": {
        "id": "AFjnkJKJlhrO"
      },
      "source": [
        "# ada boost combines multiple decision trees and uses boosting\n",
        "# (training a tree repeatedly on the result of previous training to reduce error in each subsequent tree)\n",
        "ada = AdaBoostClassifier(n_estimators=100)\n",
        "ada.fit(x_train, y_train)\n",
        "ada_pred = ada.predict(x_test)\n",
        "\n",
        "score = accuracy_score(y_test, ada_pred) * 100\n",
        "print(\"Accuracy using Ada Boost: \", round(score, 2), \"%\")\n",
        "print('Mean squared error: %.2f' % mean_squared_error(y_test, ada_pred))"
      ],
      "execution_count": null,
      "outputs": []
    },
    {
      "cell_type": "code",
      "metadata": {
        "id": "Qs9ABJuAlirT"
      },
      "source": [
        "gbc = GradientBoostingClassifier(n_estimators=100, learning_rate=.1, max_depth=1, random_state=2)\n",
        "gbc.fit(x_train, y_train)\n",
        "gbc_pred = gbc.predict(x_test)\n",
        "\n",
        "score = accuracy_score(y_test, gbc_pred) * 100\n",
        "print(\"Accuracy using Gradient Boost: \", round(score, 2), \"%\")\n",
        "print('Mean squared error: %.2f' % mean_squared_error(y_test, gbc_pred))"
      ],
      "execution_count": null,
      "outputs": []
    },
    {
      "cell_type": "code",
      "metadata": {
        "id": "iRHAcWzNsiyc"
      },
      "source": [
        "model = ada"
      ],
      "execution_count": null,
      "outputs": []
    },
    {
      "cell_type": "markdown",
      "metadata": {
        "id": "7zQVW9tqtd0A"
      },
      "source": [
        "## Generate Predictions"
      ]
    },
    {
      "cell_type": "code",
      "metadata": {
        "id": "_1OTu_cFo3qR"
      },
      "source": [
        "sourceData = pd.DataFrame(source_features)\n",
        "sourceData = sourceData[target_features]"
      ],
      "execution_count": null,
      "outputs": []
    },
    {
      "cell_type": "code",
      "metadata": {
        "id": "7p6y4tcWo6xp"
      },
      "source": [
        "sourceData"
      ],
      "execution_count": null,
      "outputs": []
    },
    {
      "cell_type": "code",
      "metadata": {
        "id": "kYpvHxkVpcYZ"
      },
      "source": [
        "pred = model.predict(sourceData)"
      ],
      "execution_count": null,
      "outputs": []
    },
    {
      "cell_type": "code",
      "metadata": {
        "id": "oIe54z9npnog"
      },
      "source": [
        "source_playlist_songs = source_playlist['tracks']['items']\n",
        "\n",
        "print(\"ACCEPTED\")\n",
        "\n",
        "i = 0\n",
        "for prediction in pred:\n",
        "    if prediction == 1:\n",
        "        song_title = source_playlist_songs[i + 1]['track']['name']\n",
        "        artist_name = source_playlist_songs[i + 1]['track']['artists'][0]['name']\n",
        "        print (\"Song: \" + song_title + \", By: \"+ artist_name)\n",
        "    i = i + 1\n",
        "\n",
        "\n",
        "print(\"REJECTED\")\n",
        "\n",
        "i = 0\n",
        "for prediction in pred:\n",
        "    if prediction == 0:\n",
        "        song_title = source_playlist_songs[i + 1]['track']['name']\n",
        "        artist_name = source_playlist_songs[i + 1]['track']['artists'][0]['name']\n",
        "        print (\"Song: \" + song_title + \", By: \"+ artist_name)\n",
        "    i = i + 1"
      ],
      "execution_count": null,
      "outputs": []
    }
  ]
}